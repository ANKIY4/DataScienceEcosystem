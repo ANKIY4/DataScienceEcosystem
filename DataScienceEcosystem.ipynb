{
 "cells": [
  {
   "cell_type": "markdown",
   "id": "d14db1e5",
   "metadata": {},
   "source": [
    " # Data Science Tools and Ecosystem"
   ]
  },
  {
   "cell_type": "markdown",
   "id": "bc2bb0b7",
   "metadata": {},
   "source": [
    "## In this notebook, Data Science Tools and Ecosystem are summarized."
   ]
  },
  {
   "cell_type": "markdown",
   "id": "20270042",
   "metadata": {},
   "source": [
    "## Objectives:\n",
    "- List popular languages for Data Science\n",
    "- Some of the commonly used libraries used by Data Scientists\n",
    "- few examples of evaluating arithmetic expressions in Python\n",
    "- Data Science Tools"
   ]
  },
  {
   "cell_type": "markdown",
   "id": "77df764e",
   "metadata": {},
   "source": [
    "### Some of the popular languages that Data Scientists use are:\n",
    " 1. R\n",
    " 2. python\n",
    " 3. java\n",
    " 4. julia\n",
    " "
   ]
  },
  {
   "cell_type": "markdown",
   "id": "43b74549",
   "metadata": {},
   "source": [
    "### Some of the commonly used libraries used by Data Scientists include:\n",
    "1. pandas\n",
    "2. numpy\n",
    "3. sci-kit learn\n",
    "4. matplotlib\n",
    "5. plotly"
   ]
  },
  {
   "cell_type": "markdown",
   "id": "8c82c24e",
   "metadata": {},
   "source": [
    "| Data Science Tools |\n",
    "------------------------------\n",
    "| RStudio.|\n",
    "|Apache Spark|\n",
    "|TensorFlow|"
   ]
  },
  {
   "cell_type": "markdown",
   "id": "070376d2",
   "metadata": {},
   "source": [
    "### Below are a few examples of evaluating arithmetic expressions in Python.\n"
   ]
  },
  {
   "cell_type": "code",
   "execution_count": 3,
   "id": "c29ea97a",
   "metadata": {},
   "outputs": [
    {
     "data": {
      "text/plain": [
       "17"
      ]
     },
     "execution_count": 3,
     "metadata": {},
     "output_type": "execute_result"
    }
   ],
   "source": [
    "# This a simple arithmetic expression to mutiply then add integers.\n",
    "(3*4)+5"
   ]
  },
  {
   "cell_type": "code",
   "execution_count": 6,
   "id": "4be9ff44",
   "metadata": {},
   "outputs": [
    {
     "data": {
      "text/plain": [
       "3"
      ]
     },
     "execution_count": 6,
     "metadata": {},
     "output_type": "execute_result"
    }
   ],
   "source": [
    "# This will convert 200 minutes to hours by diving by 60.\n",
    "200 // 60"
   ]
  },
  {
   "cell_type": "markdown",
   "id": "027a5cdd",
   "metadata": {},
   "source": [
    "## Author  \n",
    "Ankit chimariya."
   ]
  },
  {
   "cell_type": "code",
   "execution_count": null,
   "id": "414da0dd",
   "metadata": {},
   "outputs": [],
   "source": []
  }
 ],
 "metadata": {
  "kernelspec": {
   "display_name": "Python 3 (ipykernel)",
   "language": "python",
   "name": "python3"
  },
  "language_info": {
   "codemirror_mode": {
    "name": "ipython",
    "version": 3
   },
   "file_extension": ".py",
   "mimetype": "text/x-python",
   "name": "python",
   "nbconvert_exporter": "python",
   "pygments_lexer": "ipython3",
   "version": "3.11.4"
  }
 },
 "nbformat": 4,
 "nbformat_minor": 5
}
